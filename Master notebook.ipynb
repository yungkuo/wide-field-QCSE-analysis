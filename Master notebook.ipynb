{
 "cells": [
  {
   "cell_type": "code",
   "execution_count": 1,
   "metadata": {
    "collapsed": true
   },
   "outputs": [],
   "source": [
    "from nbrun import run_notebook"
   ]
  },
  {
   "cell_type": "markdown",
   "metadata": {},
   "source": [
    "# Execute notebook"
   ]
  },
  {
   "cell_type": "code",
   "execution_count": 2,
   "metadata": {
    "collapsed": true
   },
   "outputs": [],
   "source": [
    "import numpy as np"
   ]
  },
  {
   "cell_type": "code",
   "execution_count": 3,
   "metadata": {
    "collapsed": true
   },
   "outputs": [],
   "source": [
    "from sys import platform\n",
    "if platform.startswith('win'):\n",
    "    prePath = 'G:/google drive/'\n",
    "elif platform == 'darwin':\n",
    "    prePath = '/Users/yungkuo/Google Drive/'"
   ]
  },
  {
   "cell_type": "code",
   "execution_count": 4,
   "metadata": {
    "collapsed": true
   },
   "outputs": [],
   "source": [
    "nb_name = 'Wide-field QCSE spectra analysis'"
   ]
  },
  {
   "cell_type": "code",
   "execution_count": 5,
   "metadata": {
    "collapsed": true
   },
   "outputs": [],
   "source": [
    "folder = '021317 QCSE type-II NR/'\n",
    "fname = '1296BZn_PVP_OD0.6_70V_8Hz_'\n",
    "fname1 = list(np.arange(1,20,2))\n",
    "fname2 = list(np.arange(0,19,2))"
   ]
  },
  {
   "cell_type": "code",
   "execution_count": 6,
   "metadata": {
    "collapsed": false,
    "scrolled": false
   },
   "outputs": [
    {
     "data": {
      "text/html": [
       "<a href='Wide-field QCSE spectra analysis.ipynb' target='_blank'>Wide-field QCSE spectra analysis.ipynb</a><br>"
      ],
      "text/plain": [
       "G:\\google drive\\QCSE analysis script\\Wide-field QCSE spectra analysis.ipynb"
      ]
     },
     "metadata": {},
     "output_type": "display_data"
    },
    {
     "data": {
      "text/html": [
       "<a href='G:/google drive/021317 QCSE type-II NR/Wide-field QCSE spectra analysis-out_1_0.ipynb' target='_blank'>G:/google drive/021317 QCSE type-II NR/Wide-field QCSE spectra analysis-out_1_0.ipynb</a><br>"
      ],
      "text/plain": [
       "G:\\google drive\\021317 QCSE type-II NR\\Wide-field QCSE spectra analysis-out_1_0.ipynb"
      ]
     },
     "metadata": {},
     "output_type": "display_data"
    },
    {
     "data": {
      "text/html": [
       "<a href='Wide-field QCSE spectra analysis.ipynb' target='_blank'>Wide-field QCSE spectra analysis.ipynb</a><br>"
      ],
      "text/plain": [
       "G:\\google drive\\QCSE analysis script\\Wide-field QCSE spectra analysis.ipynb"
      ]
     },
     "metadata": {},
     "output_type": "display_data"
    },
    {
     "data": {
      "text/html": [
       "<a href='G:/google drive/021317 QCSE type-II NR/Wide-field QCSE spectra analysis-out_3_2.ipynb' target='_blank'>G:/google drive/021317 QCSE type-II NR/Wide-field QCSE spectra analysis-out_3_2.ipynb</a><br>"
      ],
      "text/plain": [
       "G:\\google drive\\021317 QCSE type-II NR\\Wide-field QCSE spectra analysis-out_3_2.ipynb"
      ]
     },
     "metadata": {},
     "output_type": "display_data"
    },
    {
     "data": {
      "text/html": [
       "<a href='Wide-field QCSE spectra analysis.ipynb' target='_blank'>Wide-field QCSE spectra analysis.ipynb</a><br>"
      ],
      "text/plain": [
       "G:\\google drive\\QCSE analysis script\\Wide-field QCSE spectra analysis.ipynb"
      ]
     },
     "metadata": {},
     "output_type": "display_data"
    },
    {
     "data": {
      "text/html": [
       "<a href='G:/google drive/021317 QCSE type-II NR/Wide-field QCSE spectra analysis-out_5_4.ipynb' target='_blank'>G:/google drive/021317 QCSE type-II NR/Wide-field QCSE spectra analysis-out_5_4.ipynb</a><br>"
      ],
      "text/plain": [
       "G:\\google drive\\021317 QCSE type-II NR\\Wide-field QCSE spectra analysis-out_5_4.ipynb"
      ]
     },
     "metadata": {},
     "output_type": "display_data"
    },
    {
     "data": {
      "text/html": [
       "<a href='Wide-field QCSE spectra analysis.ipynb' target='_blank'>Wide-field QCSE spectra analysis.ipynb</a><br>"
      ],
      "text/plain": [
       "G:\\google drive\\QCSE analysis script\\Wide-field QCSE spectra analysis.ipynb"
      ]
     },
     "metadata": {},
     "output_type": "display_data"
    },
    {
     "data": {
      "text/html": [
       "<a href='G:/google drive/021317 QCSE type-II NR/Wide-field QCSE spectra analysis-out_7_6.ipynb' target='_blank'>G:/google drive/021317 QCSE type-II NR/Wide-field QCSE spectra analysis-out_7_6.ipynb</a><br>"
      ],
      "text/plain": [
       "G:\\google drive\\021317 QCSE type-II NR\\Wide-field QCSE spectra analysis-out_7_6.ipynb"
      ]
     },
     "metadata": {},
     "output_type": "display_data"
    },
    {
     "data": {
      "text/html": [
       "<a href='Wide-field QCSE spectra analysis.ipynb' target='_blank'>Wide-field QCSE spectra analysis.ipynb</a><br>"
      ],
      "text/plain": [
       "G:\\google drive\\QCSE analysis script\\Wide-field QCSE spectra analysis.ipynb"
      ]
     },
     "metadata": {},
     "output_type": "display_data"
    },
    {
     "data": {
      "text/html": [
       "<a href='G:/google drive/021317 QCSE type-II NR/Wide-field QCSE spectra analysis-out_9_8.ipynb' target='_blank'>G:/google drive/021317 QCSE type-II NR/Wide-field QCSE spectra analysis-out_9_8.ipynb</a><br>"
      ],
      "text/plain": [
       "G:\\google drive\\021317 QCSE type-II NR\\Wide-field QCSE spectra analysis-out_9_8.ipynb"
      ]
     },
     "metadata": {},
     "output_type": "display_data"
    },
    {
     "data": {
      "text/html": [
       "<a href='Wide-field QCSE spectra analysis.ipynb' target='_blank'>Wide-field QCSE spectra analysis.ipynb</a><br>"
      ],
      "text/plain": [
       "G:\\google drive\\QCSE analysis script\\Wide-field QCSE spectra analysis.ipynb"
      ]
     },
     "metadata": {},
     "output_type": "display_data"
    },
    {
     "data": {
      "text/html": [
       "<a href='G:/google drive/021317 QCSE type-II NR/Wide-field QCSE spectra analysis-out_11_10.ipynb' target='_blank'>G:/google drive/021317 QCSE type-II NR/Wide-field QCSE spectra analysis-out_11_10.ipynb</a><br>"
      ],
      "text/plain": [
       "G:\\google drive\\021317 QCSE type-II NR\\Wide-field QCSE spectra analysis-out_11_10.ipynb"
      ]
     },
     "metadata": {},
     "output_type": "display_data"
    },
    {
     "data": {
      "text/html": [
       "<a href='Wide-field QCSE spectra analysis.ipynb' target='_blank'>Wide-field QCSE spectra analysis.ipynb</a><br>"
      ],
      "text/plain": [
       "G:\\google drive\\QCSE analysis script\\Wide-field QCSE spectra analysis.ipynb"
      ]
     },
     "metadata": {},
     "output_type": "display_data"
    },
    {
     "data": {
      "text/html": [
       "<a href='G:/google drive/021317 QCSE type-II NR/Wide-field QCSE spectra analysis-out_13_12.ipynb' target='_blank'>G:/google drive/021317 QCSE type-II NR/Wide-field QCSE spectra analysis-out_13_12.ipynb</a><br>"
      ],
      "text/plain": [
       "G:\\google drive\\021317 QCSE type-II NR\\Wide-field QCSE spectra analysis-out_13_12.ipynb"
      ]
     },
     "metadata": {},
     "output_type": "display_data"
    },
    {
     "data": {
      "text/html": [
       "<a href='Wide-field QCSE spectra analysis.ipynb' target='_blank'>Wide-field QCSE spectra analysis.ipynb</a><br>"
      ],
      "text/plain": [
       "G:\\google drive\\QCSE analysis script\\Wide-field QCSE spectra analysis.ipynb"
      ]
     },
     "metadata": {},
     "output_type": "display_data"
    },
    {
     "data": {
      "text/html": [
       "<a href='G:/google drive/021317 QCSE type-II NR/Wide-field QCSE spectra analysis-out_15_14.ipynb' target='_blank'>G:/google drive/021317 QCSE type-II NR/Wide-field QCSE spectra analysis-out_15_14.ipynb</a><br>"
      ],
      "text/plain": [
       "G:\\google drive\\021317 QCSE type-II NR\\Wide-field QCSE spectra analysis-out_15_14.ipynb"
      ]
     },
     "metadata": {},
     "output_type": "display_data"
    },
    {
     "data": {
      "text/html": [
       "<a href='Wide-field QCSE spectra analysis.ipynb' target='_blank'>Wide-field QCSE spectra analysis.ipynb</a><br>"
      ],
      "text/plain": [
       "G:\\google drive\\QCSE analysis script\\Wide-field QCSE spectra analysis.ipynb"
      ]
     },
     "metadata": {},
     "output_type": "display_data"
    },
    {
     "data": {
      "text/html": [
       "<a href='G:/google drive/021317 QCSE type-II NR/Wide-field QCSE spectra analysis-out_17_16.ipynb' target='_blank'>G:/google drive/021317 QCSE type-II NR/Wide-field QCSE spectra analysis-out_17_16.ipynb</a><br>"
      ],
      "text/plain": [
       "G:\\google drive\\021317 QCSE type-II NR\\Wide-field QCSE spectra analysis-out_17_16.ipynb"
      ]
     },
     "metadata": {},
     "output_type": "display_data"
    },
    {
     "data": {
      "text/html": [
       "<a href='Wide-field QCSE spectra analysis.ipynb' target='_blank'>Wide-field QCSE spectra analysis.ipynb</a><br>"
      ],
      "text/plain": [
       "G:\\google drive\\QCSE analysis script\\Wide-field QCSE spectra analysis.ipynb"
      ]
     },
     "metadata": {},
     "output_type": "display_data"
    },
    {
     "data": {
      "text/html": [
       "<a href='G:/google drive/021317 QCSE type-II NR/Wide-field QCSE spectra analysis-out_19_18.ipynb' target='_blank'>G:/google drive/021317 QCSE type-II NR/Wide-field QCSE spectra analysis-out_19_18.ipynb</a><br>"
      ],
      "text/plain": [
       "G:\\google drive\\021317 QCSE type-II NR\\Wide-field QCSE spectra analysis-out_19_18.ipynb"
      ]
     },
     "metadata": {},
     "output_type": "display_data"
    }
   ],
   "source": [
    "for f1, f2 in zip(fname1, fname2):\n",
    "    nb_kwargs = {'fileName1': fname+str(f1), 'fileName2': fname+str(f2), 'folder': folder}\n",
    "    try:\n",
    "        run_notebook(nb_name, nb_suffix='-out_%d_%s' % (f1, f2), out_path=prePath+folder, nb_kwargs=nb_kwargs)\n",
    "    except:\n",
    "        print('Oh no!!', f1, f2)"
   ]
  },
  {
   "cell_type": "code",
   "execution_count": 6,
   "metadata": {
    "collapsed": true
   },
   "outputs": [],
   "source": [
    "folder = '100316 QCSE rQD PVP/'\n",
    "fname = 'rQD_PVP_OD0.5OD0.5_76V_8Hz_'\n",
    "fname1 = list(np.arange(1,18,2))\n",
    "fname2 = list(np.arange(0,17,2))"
   ]
  },
  {
   "cell_type": "code",
   "execution_count": 7,
   "metadata": {
    "collapsed": false,
    "scrolled": false
   },
   "outputs": [
    {
     "data": {
      "text/html": [
       "<a href='Wide-field QCSE spectra analysis-win.ipynb' target='_blank'>Wide-field QCSE spectra analysis-win.ipynb</a><br>"
      ],
      "text/plain": [
       "G:\\google drive\\QCSE analysis script\\Wide-field QCSE spectra analysis-win.ipynb"
      ]
     },
     "metadata": {},
     "output_type": "display_data"
    },
    {
     "data": {
      "text/html": [
       "<a href='G:/google drive/100316 QCSE rQD PVP/Wide-field QCSE spectra analysis-win-out_1_0.ipynb' target='_blank'>G:/google drive/100316 QCSE rQD PVP/Wide-field QCSE spectra analysis-win-out_1_0.ipynb</a><br>"
      ],
      "text/plain": [
       "G:\\google drive\\100316 QCSE rQD PVP\\Wide-field QCSE spectra analysis-win-out_1_0.ipynb"
      ]
     },
     "metadata": {},
     "output_type": "display_data"
    },
    {
     "data": {
      "text/html": [
       "<a href='Wide-field QCSE spectra analysis-win.ipynb' target='_blank'>Wide-field QCSE spectra analysis-win.ipynb</a><br>"
      ],
      "text/plain": [
       "G:\\google drive\\QCSE analysis script\\Wide-field QCSE spectra analysis-win.ipynb"
      ]
     },
     "metadata": {},
     "output_type": "display_data"
    },
    {
     "data": {
      "text/html": [
       "<a href='G:/google drive/100316 QCSE rQD PVP/Wide-field QCSE spectra analysis-win-out_3_2.ipynb' target='_blank'>G:/google drive/100316 QCSE rQD PVP/Wide-field QCSE spectra analysis-win-out_3_2.ipynb</a><br>"
      ],
      "text/plain": [
       "G:\\google drive\\100316 QCSE rQD PVP\\Wide-field QCSE spectra analysis-win-out_3_2.ipynb"
      ]
     },
     "metadata": {},
     "output_type": "display_data"
    },
    {
     "data": {
      "text/html": [
       "<a href='Wide-field QCSE spectra analysis-win.ipynb' target='_blank'>Wide-field QCSE spectra analysis-win.ipynb</a><br>"
      ],
      "text/plain": [
       "G:\\google drive\\QCSE analysis script\\Wide-field QCSE spectra analysis-win.ipynb"
      ]
     },
     "metadata": {},
     "output_type": "display_data"
    },
    {
     "name": "stdout",
     "output_type": "stream",
     "text": [
      "Error executing the notebook \"Wide-field QCSE spectra analysis-win\".\n",
      "\n",
      "See notebook \"G:/google drive/100316 QCSE rQD PVP/Wide-field QCSE spectra analysis-win-out_5_4.ipynb\" for the traceback.\n"
     ]
    },
    {
     "data": {
      "text/html": [
       "<a href='G:/google drive/100316 QCSE rQD PVP/Wide-field QCSE spectra analysis-win-out_5_4.ipynb' target='_blank'>G:/google drive/100316 QCSE rQD PVP/Wide-field QCSE spectra analysis-win-out_5_4.ipynb</a><br>"
      ],
      "text/plain": [
       "G:\\google drive\\100316 QCSE rQD PVP\\Wide-field QCSE spectra analysis-win-out_5_4.ipynb"
      ]
     },
     "metadata": {},
     "output_type": "display_data"
    },
    {
     "name": "stdout",
     "output_type": "stream",
     "text": [
      "5 4\n"
     ]
    },
    {
     "data": {
      "text/html": [
       "<a href='Wide-field QCSE spectra analysis-win.ipynb' target='_blank'>Wide-field QCSE spectra analysis-win.ipynb</a><br>"
      ],
      "text/plain": [
       "G:\\google drive\\QCSE analysis script\\Wide-field QCSE spectra analysis-win.ipynb"
      ]
     },
     "metadata": {},
     "output_type": "display_data"
    },
    {
     "data": {
      "text/html": [
       "<a href='G:/google drive/100316 QCSE rQD PVP/Wide-field QCSE spectra analysis-win-out_7_6.ipynb' target='_blank'>G:/google drive/100316 QCSE rQD PVP/Wide-field QCSE spectra analysis-win-out_7_6.ipynb</a><br>"
      ],
      "text/plain": [
       "G:\\google drive\\100316 QCSE rQD PVP\\Wide-field QCSE spectra analysis-win-out_7_6.ipynb"
      ]
     },
     "metadata": {},
     "output_type": "display_data"
    },
    {
     "data": {
      "text/html": [
       "<a href='Wide-field QCSE spectra analysis-win.ipynb' target='_blank'>Wide-field QCSE spectra analysis-win.ipynb</a><br>"
      ],
      "text/plain": [
       "G:\\google drive\\QCSE analysis script\\Wide-field QCSE spectra analysis-win.ipynb"
      ]
     },
     "metadata": {},
     "output_type": "display_data"
    },
    {
     "data": {
      "text/html": [
       "<a href='G:/google drive/100316 QCSE rQD PVP/Wide-field QCSE spectra analysis-win-out_9_8.ipynb' target='_blank'>G:/google drive/100316 QCSE rQD PVP/Wide-field QCSE spectra analysis-win-out_9_8.ipynb</a><br>"
      ],
      "text/plain": [
       "G:\\google drive\\100316 QCSE rQD PVP\\Wide-field QCSE spectra analysis-win-out_9_8.ipynb"
      ]
     },
     "metadata": {},
     "output_type": "display_data"
    },
    {
     "data": {
      "text/html": [
       "<a href='Wide-field QCSE spectra analysis-win.ipynb' target='_blank'>Wide-field QCSE spectra analysis-win.ipynb</a><br>"
      ],
      "text/plain": [
       "G:\\google drive\\QCSE analysis script\\Wide-field QCSE spectra analysis-win.ipynb"
      ]
     },
     "metadata": {},
     "output_type": "display_data"
    },
    {
     "data": {
      "text/html": [
       "<a href='G:/google drive/100316 QCSE rQD PVP/Wide-field QCSE spectra analysis-win-out_11_10.ipynb' target='_blank'>G:/google drive/100316 QCSE rQD PVP/Wide-field QCSE spectra analysis-win-out_11_10.ipynb</a><br>"
      ],
      "text/plain": [
       "G:\\google drive\\100316 QCSE rQD PVP\\Wide-field QCSE spectra analysis-win-out_11_10.ipynb"
      ]
     },
     "metadata": {},
     "output_type": "display_data"
    },
    {
     "data": {
      "text/html": [
       "<a href='Wide-field QCSE spectra analysis-win.ipynb' target='_blank'>Wide-field QCSE spectra analysis-win.ipynb</a><br>"
      ],
      "text/plain": [
       "G:\\google drive\\QCSE analysis script\\Wide-field QCSE spectra analysis-win.ipynb"
      ]
     },
     "metadata": {},
     "output_type": "display_data"
    },
    {
     "data": {
      "text/html": [
       "<a href='G:/google drive/100316 QCSE rQD PVP/Wide-field QCSE spectra analysis-win-out_13_12.ipynb' target='_blank'>G:/google drive/100316 QCSE rQD PVP/Wide-field QCSE spectra analysis-win-out_13_12.ipynb</a><br>"
      ],
      "text/plain": [
       "G:\\google drive\\100316 QCSE rQD PVP\\Wide-field QCSE spectra analysis-win-out_13_12.ipynb"
      ]
     },
     "metadata": {},
     "output_type": "display_data"
    },
    {
     "data": {
      "text/html": [
       "<a href='Wide-field QCSE spectra analysis-win.ipynb' target='_blank'>Wide-field QCSE spectra analysis-win.ipynb</a><br>"
      ],
      "text/plain": [
       "G:\\google drive\\QCSE analysis script\\Wide-field QCSE spectra analysis-win.ipynb"
      ]
     },
     "metadata": {},
     "output_type": "display_data"
    },
    {
     "data": {
      "text/html": [
       "<a href='G:/google drive/100316 QCSE rQD PVP/Wide-field QCSE spectra analysis-win-out_15_14.ipynb' target='_blank'>G:/google drive/100316 QCSE rQD PVP/Wide-field QCSE spectra analysis-win-out_15_14.ipynb</a><br>"
      ],
      "text/plain": [
       "G:\\google drive\\100316 QCSE rQD PVP\\Wide-field QCSE spectra analysis-win-out_15_14.ipynb"
      ]
     },
     "metadata": {},
     "output_type": "display_data"
    },
    {
     "data": {
      "text/html": [
       "<a href='Wide-field QCSE spectra analysis-win.ipynb' target='_blank'>Wide-field QCSE spectra analysis-win.ipynb</a><br>"
      ],
      "text/plain": [
       "G:\\google drive\\QCSE analysis script\\Wide-field QCSE spectra analysis-win.ipynb"
      ]
     },
     "metadata": {},
     "output_type": "display_data"
    },
    {
     "data": {
      "text/html": [
       "<a href='G:/google drive/100316 QCSE rQD PVP/Wide-field QCSE spectra analysis-win-out_17_16.ipynb' target='_blank'>G:/google drive/100316 QCSE rQD PVP/Wide-field QCSE spectra analysis-win-out_17_16.ipynb</a><br>"
      ],
      "text/plain": [
       "G:\\google drive\\100316 QCSE rQD PVP\\Wide-field QCSE spectra analysis-win-out_17_16.ipynb"
      ]
     },
     "metadata": {},
     "output_type": "display_data"
    }
   ],
   "source": [
    "for f1, f2 in zip(fname1, fname2):\n",
    "    nb_kwargs = {'fileName1': fname+str(f1), 'fileName2': fname+str(f2), 'folder': folder}\n",
    "    try:\n",
    "        run_notebook(nb_name, nb_suffix='-out_%d_%s' % (f1, f2), out_path=prePath+folder, nb_kwargs=nb_kwargs)\n",
    "    except:\n",
    "        print(f1, f2)"
   ]
  },
  {
   "cell_type": "code",
   "execution_count": 8,
   "metadata": {
    "collapsed": false
   },
   "outputs": [],
   "source": [
    "folder = '100416 QCSE 40nmNR Te PVP/'\n",
    "fname = '40nmNRTe_PVP_OD0.5OD0.5_74V_8Hz_'\n",
    "fname1 = list(np.arange(1,18,2))\n",
    "fname2 = list(np.arange(0,17,2))"
   ]
  },
  {
   "cell_type": "code",
   "execution_count": 9,
   "metadata": {
    "collapsed": false
   },
   "outputs": [
    {
     "data": {
      "text/html": [
       "<a href='Wide-field QCSE spectra analysis-win.ipynb' target='_blank'>Wide-field QCSE spectra analysis-win.ipynb</a><br>"
      ],
      "text/plain": [
       "G:\\google drive\\QCSE analysis script\\Wide-field QCSE spectra analysis-win.ipynb"
      ]
     },
     "metadata": {},
     "output_type": "display_data"
    },
    {
     "data": {
      "text/html": [
       "<a href='G:/google drive/100416 QCSE 40nmNR Te PVP/Wide-field QCSE spectra analysis-win-out_1_0.ipynb' target='_blank'>G:/google drive/100416 QCSE 40nmNR Te PVP/Wide-field QCSE spectra analysis-win-out_1_0.ipynb</a><br>"
      ],
      "text/plain": [
       "G:\\google drive\\100416 QCSE 40nmNR Te PVP\\Wide-field QCSE spectra analysis-win-out_1_0.ipynb"
      ]
     },
     "metadata": {},
     "output_type": "display_data"
    },
    {
     "data": {
      "text/html": [
       "<a href='Wide-field QCSE spectra analysis-win.ipynb' target='_blank'>Wide-field QCSE spectra analysis-win.ipynb</a><br>"
      ],
      "text/plain": [
       "G:\\google drive\\QCSE analysis script\\Wide-field QCSE spectra analysis-win.ipynb"
      ]
     },
     "metadata": {},
     "output_type": "display_data"
    },
    {
     "data": {
      "text/html": [
       "<a href='G:/google drive/100416 QCSE 40nmNR Te PVP/Wide-field QCSE spectra analysis-win-out_3_2.ipynb' target='_blank'>G:/google drive/100416 QCSE 40nmNR Te PVP/Wide-field QCSE spectra analysis-win-out_3_2.ipynb</a><br>"
      ],
      "text/plain": [
       "G:\\google drive\\100416 QCSE 40nmNR Te PVP\\Wide-field QCSE spectra analysis-win-out_3_2.ipynb"
      ]
     },
     "metadata": {},
     "output_type": "display_data"
    },
    {
     "data": {
      "text/html": [
       "<a href='Wide-field QCSE spectra analysis-win.ipynb' target='_blank'>Wide-field QCSE spectra analysis-win.ipynb</a><br>"
      ],
      "text/plain": [
       "G:\\google drive\\QCSE analysis script\\Wide-field QCSE spectra analysis-win.ipynb"
      ]
     },
     "metadata": {},
     "output_type": "display_data"
    },
    {
     "data": {
      "text/html": [
       "<a href='G:/google drive/100416 QCSE 40nmNR Te PVP/Wide-field QCSE spectra analysis-win-out_5_4.ipynb' target='_blank'>G:/google drive/100416 QCSE 40nmNR Te PVP/Wide-field QCSE spectra analysis-win-out_5_4.ipynb</a><br>"
      ],
      "text/plain": [
       "G:\\google drive\\100416 QCSE 40nmNR Te PVP\\Wide-field QCSE spectra analysis-win-out_5_4.ipynb"
      ]
     },
     "metadata": {},
     "output_type": "display_data"
    },
    {
     "data": {
      "text/html": [
       "<a href='Wide-field QCSE spectra analysis-win.ipynb' target='_blank'>Wide-field QCSE spectra analysis-win.ipynb</a><br>"
      ],
      "text/plain": [
       "G:\\google drive\\QCSE analysis script\\Wide-field QCSE spectra analysis-win.ipynb"
      ]
     },
     "metadata": {},
     "output_type": "display_data"
    },
    {
     "data": {
      "text/html": [
       "<a href='G:/google drive/100416 QCSE 40nmNR Te PVP/Wide-field QCSE spectra analysis-win-out_7_6.ipynb' target='_blank'>G:/google drive/100416 QCSE 40nmNR Te PVP/Wide-field QCSE spectra analysis-win-out_7_6.ipynb</a><br>"
      ],
      "text/plain": [
       "G:\\google drive\\100416 QCSE 40nmNR Te PVP\\Wide-field QCSE spectra analysis-win-out_7_6.ipynb"
      ]
     },
     "metadata": {},
     "output_type": "display_data"
    },
    {
     "data": {
      "text/html": [
       "<a href='Wide-field QCSE spectra analysis-win.ipynb' target='_blank'>Wide-field QCSE spectra analysis-win.ipynb</a><br>"
      ],
      "text/plain": [
       "G:\\google drive\\QCSE analysis script\\Wide-field QCSE spectra analysis-win.ipynb"
      ]
     },
     "metadata": {},
     "output_type": "display_data"
    },
    {
     "data": {
      "text/html": [
       "<a href='G:/google drive/100416 QCSE 40nmNR Te PVP/Wide-field QCSE spectra analysis-win-out_9_8.ipynb' target='_blank'>G:/google drive/100416 QCSE 40nmNR Te PVP/Wide-field QCSE spectra analysis-win-out_9_8.ipynb</a><br>"
      ],
      "text/plain": [
       "G:\\google drive\\100416 QCSE 40nmNR Te PVP\\Wide-field QCSE spectra analysis-win-out_9_8.ipynb"
      ]
     },
     "metadata": {},
     "output_type": "display_data"
    },
    {
     "data": {
      "text/html": [
       "<a href='Wide-field QCSE spectra analysis-win.ipynb' target='_blank'>Wide-field QCSE spectra analysis-win.ipynb</a><br>"
      ],
      "text/plain": [
       "G:\\google drive\\QCSE analysis script\\Wide-field QCSE spectra analysis-win.ipynb"
      ]
     },
     "metadata": {},
     "output_type": "display_data"
    },
    {
     "data": {
      "text/html": [
       "<a href='G:/google drive/100416 QCSE 40nmNR Te PVP/Wide-field QCSE spectra analysis-win-out_11_10.ipynb' target='_blank'>G:/google drive/100416 QCSE 40nmNR Te PVP/Wide-field QCSE spectra analysis-win-out_11_10.ipynb</a><br>"
      ],
      "text/plain": [
       "G:\\google drive\\100416 QCSE 40nmNR Te PVP\\Wide-field QCSE spectra analysis-win-out_11_10.ipynb"
      ]
     },
     "metadata": {},
     "output_type": "display_data"
    },
    {
     "data": {
      "text/html": [
       "<a href='Wide-field QCSE spectra analysis-win.ipynb' target='_blank'>Wide-field QCSE spectra analysis-win.ipynb</a><br>"
      ],
      "text/plain": [
       "G:\\google drive\\QCSE analysis script\\Wide-field QCSE spectra analysis-win.ipynb"
      ]
     },
     "metadata": {},
     "output_type": "display_data"
    },
    {
     "data": {
      "text/html": [
       "<a href='G:/google drive/100416 QCSE 40nmNR Te PVP/Wide-field QCSE spectra analysis-win-out_13_12.ipynb' target='_blank'>G:/google drive/100416 QCSE 40nmNR Te PVP/Wide-field QCSE spectra analysis-win-out_13_12.ipynb</a><br>"
      ],
      "text/plain": [
       "G:\\google drive\\100416 QCSE 40nmNR Te PVP\\Wide-field QCSE spectra analysis-win-out_13_12.ipynb"
      ]
     },
     "metadata": {},
     "output_type": "display_data"
    },
    {
     "data": {
      "text/html": [
       "<a href='Wide-field QCSE spectra analysis-win.ipynb' target='_blank'>Wide-field QCSE spectra analysis-win.ipynb</a><br>"
      ],
      "text/plain": [
       "G:\\google drive\\QCSE analysis script\\Wide-field QCSE spectra analysis-win.ipynb"
      ]
     },
     "metadata": {},
     "output_type": "display_data"
    },
    {
     "data": {
      "text/html": [
       "<a href='G:/google drive/100416 QCSE 40nmNR Te PVP/Wide-field QCSE spectra analysis-win-out_15_14.ipynb' target='_blank'>G:/google drive/100416 QCSE 40nmNR Te PVP/Wide-field QCSE spectra analysis-win-out_15_14.ipynb</a><br>"
      ],
      "text/plain": [
       "G:\\google drive\\100416 QCSE 40nmNR Te PVP\\Wide-field QCSE spectra analysis-win-out_15_14.ipynb"
      ]
     },
     "metadata": {},
     "output_type": "display_data"
    },
    {
     "data": {
      "text/html": [
       "<a href='Wide-field QCSE spectra analysis-win.ipynb' target='_blank'>Wide-field QCSE spectra analysis-win.ipynb</a><br>"
      ],
      "text/plain": [
       "G:\\google drive\\QCSE analysis script\\Wide-field QCSE spectra analysis-win.ipynb"
      ]
     },
     "metadata": {},
     "output_type": "display_data"
    },
    {
     "data": {
      "text/html": [
       "<a href='G:/google drive/100416 QCSE 40nmNR Te PVP/Wide-field QCSE spectra analysis-win-out_17_16.ipynb' target='_blank'>G:/google drive/100416 QCSE 40nmNR Te PVP/Wide-field QCSE spectra analysis-win-out_17_16.ipynb</a><br>"
      ],
      "text/plain": [
       "G:\\google drive\\100416 QCSE 40nmNR Te PVP\\Wide-field QCSE spectra analysis-win-out_17_16.ipynb"
      ]
     },
     "metadata": {},
     "output_type": "display_data"
    }
   ],
   "source": [
    "for f1, f2 in zip(fname1, fname2):\n",
    "    nb_kwargs = {'fileName1': fname+str(f1), 'fileName2': fname+str(f2), 'folder': folder}\n",
    "    try:\n",
    "        run_notebook(nb_name, nb_suffix='-out_%d_%s' % (f1, f2), out_path=prePath+folder, nb_kwargs=nb_kwargs)\n",
    "    except:\n",
    "        print(f1, f2)"
   ]
  },
  {
   "cell_type": "code",
   "execution_count": 10,
   "metadata": {
    "collapsed": false
   },
   "outputs": [],
   "source": [
    "folder = '020717 QCSE sandwich/'\n",
    "fname = '9BZn_PVP_OD0.6_73V_8Hz_'\n",
    "fname1 = list(np.arange(1,13,2))\n",
    "fname2 = list(np.arange(0,12,2))"
   ]
  },
  {
   "cell_type": "code",
   "execution_count": 11,
   "metadata": {
    "collapsed": false
   },
   "outputs": [
    {
     "data": {
      "text/html": [
       "<a href='Wide-field QCSE spectra analysis-win.ipynb' target='_blank'>Wide-field QCSE spectra analysis-win.ipynb</a><br>"
      ],
      "text/plain": [
       "G:\\google drive\\QCSE analysis script\\Wide-field QCSE spectra analysis-win.ipynb"
      ]
     },
     "metadata": {},
     "output_type": "display_data"
    },
    {
     "data": {
      "text/html": [
       "<a href='G:/google drive/020717 QCSE sandwich/Wide-field QCSE spectra analysis-win9BZn-out_1_0.ipynb' target='_blank'>G:/google drive/020717 QCSE sandwich/Wide-field QCSE spectra analysis-win9BZn-out_1_0.ipynb</a><br>"
      ],
      "text/plain": [
       "G:\\google drive\\020717 QCSE sandwich\\Wide-field QCSE spectra analysis-win9BZn-out_1_0.ipynb"
      ]
     },
     "metadata": {},
     "output_type": "display_data"
    },
    {
     "data": {
      "text/html": [
       "<a href='Wide-field QCSE spectra analysis-win.ipynb' target='_blank'>Wide-field QCSE spectra analysis-win.ipynb</a><br>"
      ],
      "text/plain": [
       "G:\\google drive\\QCSE analysis script\\Wide-field QCSE spectra analysis-win.ipynb"
      ]
     },
     "metadata": {},
     "output_type": "display_data"
    },
    {
     "data": {
      "text/html": [
       "<a href='G:/google drive/020717 QCSE sandwich/Wide-field QCSE spectra analysis-win9BZn-out_3_2.ipynb' target='_blank'>G:/google drive/020717 QCSE sandwich/Wide-field QCSE spectra analysis-win9BZn-out_3_2.ipynb</a><br>"
      ],
      "text/plain": [
       "G:\\google drive\\020717 QCSE sandwich\\Wide-field QCSE spectra analysis-win9BZn-out_3_2.ipynb"
      ]
     },
     "metadata": {},
     "output_type": "display_data"
    },
    {
     "data": {
      "text/html": [
       "<a href='Wide-field QCSE spectra analysis-win.ipynb' target='_blank'>Wide-field QCSE spectra analysis-win.ipynb</a><br>"
      ],
      "text/plain": [
       "G:\\google drive\\QCSE analysis script\\Wide-field QCSE spectra analysis-win.ipynb"
      ]
     },
     "metadata": {},
     "output_type": "display_data"
    },
    {
     "data": {
      "text/html": [
       "<a href='G:/google drive/020717 QCSE sandwich/Wide-field QCSE spectra analysis-win9BZn-out_5_4.ipynb' target='_blank'>G:/google drive/020717 QCSE sandwich/Wide-field QCSE spectra analysis-win9BZn-out_5_4.ipynb</a><br>"
      ],
      "text/plain": [
       "G:\\google drive\\020717 QCSE sandwich\\Wide-field QCSE spectra analysis-win9BZn-out_5_4.ipynb"
      ]
     },
     "metadata": {},
     "output_type": "display_data"
    },
    {
     "data": {
      "text/html": [
       "<a href='Wide-field QCSE spectra analysis-win.ipynb' target='_blank'>Wide-field QCSE spectra analysis-win.ipynb</a><br>"
      ],
      "text/plain": [
       "G:\\google drive\\QCSE analysis script\\Wide-field QCSE spectra analysis-win.ipynb"
      ]
     },
     "metadata": {},
     "output_type": "display_data"
    },
    {
     "data": {
      "text/html": [
       "<a href='G:/google drive/020717 QCSE sandwich/Wide-field QCSE spectra analysis-win9BZn-out_7_6.ipynb' target='_blank'>G:/google drive/020717 QCSE sandwich/Wide-field QCSE spectra analysis-win9BZn-out_7_6.ipynb</a><br>"
      ],
      "text/plain": [
       "G:\\google drive\\020717 QCSE sandwich\\Wide-field QCSE spectra analysis-win9BZn-out_7_6.ipynb"
      ]
     },
     "metadata": {},
     "output_type": "display_data"
    },
    {
     "data": {
      "text/html": [
       "<a href='Wide-field QCSE spectra analysis-win.ipynb' target='_blank'>Wide-field QCSE spectra analysis-win.ipynb</a><br>"
      ],
      "text/plain": [
       "G:\\google drive\\QCSE analysis script\\Wide-field QCSE spectra analysis-win.ipynb"
      ]
     },
     "metadata": {},
     "output_type": "display_data"
    },
    {
     "data": {
      "text/html": [
       "<a href='G:/google drive/020717 QCSE sandwich/Wide-field QCSE spectra analysis-win9BZn-out_9_8.ipynb' target='_blank'>G:/google drive/020717 QCSE sandwich/Wide-field QCSE spectra analysis-win9BZn-out_9_8.ipynb</a><br>"
      ],
      "text/plain": [
       "G:\\google drive\\020717 QCSE sandwich\\Wide-field QCSE spectra analysis-win9BZn-out_9_8.ipynb"
      ]
     },
     "metadata": {},
     "output_type": "display_data"
    },
    {
     "data": {
      "text/html": [
       "<a href='Wide-field QCSE spectra analysis-win.ipynb' target='_blank'>Wide-field QCSE spectra analysis-win.ipynb</a><br>"
      ],
      "text/plain": [
       "G:\\google drive\\QCSE analysis script\\Wide-field QCSE spectra analysis-win.ipynb"
      ]
     },
     "metadata": {},
     "output_type": "display_data"
    },
    {
     "data": {
      "text/html": [
       "<a href='G:/google drive/020717 QCSE sandwich/Wide-field QCSE spectra analysis-win9BZn-out_11_10.ipynb' target='_blank'>G:/google drive/020717 QCSE sandwich/Wide-field QCSE spectra analysis-win9BZn-out_11_10.ipynb</a><br>"
      ],
      "text/plain": [
       "G:\\google drive\\020717 QCSE sandwich\\Wide-field QCSE spectra analysis-win9BZn-out_11_10.ipynb"
      ]
     },
     "metadata": {},
     "output_type": "display_data"
    }
   ],
   "source": [
    "for f1, f2 in zip(fname1, fname2):\n",
    "    nb_kwargs = {'fileName1': fname+str(f1), 'fileName2': fname+str(f2), 'folder': folder}\n",
    "    try:\n",
    "        run_notebook(nb_name, nb_suffix=fname.split('_')[0]+'-out_%d_%s' % (f1, f2), out_path=prePath+folder, nb_kwargs=nb_kwargs)\n",
    "    except:\n",
    "        print(f1, f2)"
   ]
  },
  {
   "cell_type": "code",
   "execution_count": 12,
   "metadata": {
    "collapsed": true
   },
   "outputs": [],
   "source": [
    "folder = '093016 QCSE kQD PVP/'\n",
    "fname = 'kQD_PVP_OD0.5OD0.5_73V_8Hz_'\n",
    "fname1 = list(np.arange(1,17,2))+[18,20]\n",
    "fname2 = list(np.arange(0,15,2))+[16,19]"
   ]
  },
  {
   "cell_type": "code",
   "execution_count": 13,
   "metadata": {
    "collapsed": false
   },
   "outputs": [
    {
     "data": {
      "text/html": [
       "<a href='Wide-field QCSE spectra analysis-win.ipynb' target='_blank'>Wide-field QCSE spectra analysis-win.ipynb</a><br>"
      ],
      "text/plain": [
       "G:\\google drive\\QCSE analysis script\\Wide-field QCSE spectra analysis-win.ipynb"
      ]
     },
     "metadata": {},
     "output_type": "display_data"
    },
    {
     "data": {
      "text/html": [
       "<a href='G:/google drive/093016 QCSE kQD PVP/Wide-field QCSE spectra analysis-win-out_1_0.ipynb' target='_blank'>G:/google drive/093016 QCSE kQD PVP/Wide-field QCSE spectra analysis-win-out_1_0.ipynb</a><br>"
      ],
      "text/plain": [
       "G:\\google drive\\093016 QCSE kQD PVP\\Wide-field QCSE spectra analysis-win-out_1_0.ipynb"
      ]
     },
     "metadata": {},
     "output_type": "display_data"
    },
    {
     "data": {
      "text/html": [
       "<a href='Wide-field QCSE spectra analysis-win.ipynb' target='_blank'>Wide-field QCSE spectra analysis-win.ipynb</a><br>"
      ],
      "text/plain": [
       "G:\\google drive\\QCSE analysis script\\Wide-field QCSE spectra analysis-win.ipynb"
      ]
     },
     "metadata": {},
     "output_type": "display_data"
    },
    {
     "data": {
      "text/html": [
       "<a href='G:/google drive/093016 QCSE kQD PVP/Wide-field QCSE spectra analysis-win-out_3_2.ipynb' target='_blank'>G:/google drive/093016 QCSE kQD PVP/Wide-field QCSE spectra analysis-win-out_3_2.ipynb</a><br>"
      ],
      "text/plain": [
       "G:\\google drive\\093016 QCSE kQD PVP\\Wide-field QCSE spectra analysis-win-out_3_2.ipynb"
      ]
     },
     "metadata": {},
     "output_type": "display_data"
    },
    {
     "data": {
      "text/html": [
       "<a href='Wide-field QCSE spectra analysis-win.ipynb' target='_blank'>Wide-field QCSE spectra analysis-win.ipynb</a><br>"
      ],
      "text/plain": [
       "G:\\google drive\\QCSE analysis script\\Wide-field QCSE spectra analysis-win.ipynb"
      ]
     },
     "metadata": {},
     "output_type": "display_data"
    },
    {
     "data": {
      "text/html": [
       "<a href='G:/google drive/093016 QCSE kQD PVP/Wide-field QCSE spectra analysis-win-out_5_4.ipynb' target='_blank'>G:/google drive/093016 QCSE kQD PVP/Wide-field QCSE spectra analysis-win-out_5_4.ipynb</a><br>"
      ],
      "text/plain": [
       "G:\\google drive\\093016 QCSE kQD PVP\\Wide-field QCSE spectra analysis-win-out_5_4.ipynb"
      ]
     },
     "metadata": {},
     "output_type": "display_data"
    },
    {
     "data": {
      "text/html": [
       "<a href='Wide-field QCSE spectra analysis-win.ipynb' target='_blank'>Wide-field QCSE spectra analysis-win.ipynb</a><br>"
      ],
      "text/plain": [
       "G:\\google drive\\QCSE analysis script\\Wide-field QCSE spectra analysis-win.ipynb"
      ]
     },
     "metadata": {},
     "output_type": "display_data"
    },
    {
     "data": {
      "text/html": [
       "<a href='G:/google drive/093016 QCSE kQD PVP/Wide-field QCSE spectra analysis-win-out_7_6.ipynb' target='_blank'>G:/google drive/093016 QCSE kQD PVP/Wide-field QCSE spectra analysis-win-out_7_6.ipynb</a><br>"
      ],
      "text/plain": [
       "G:\\google drive\\093016 QCSE kQD PVP\\Wide-field QCSE spectra analysis-win-out_7_6.ipynb"
      ]
     },
     "metadata": {},
     "output_type": "display_data"
    },
    {
     "data": {
      "text/html": [
       "<a href='Wide-field QCSE spectra analysis-win.ipynb' target='_blank'>Wide-field QCSE spectra analysis-win.ipynb</a><br>"
      ],
      "text/plain": [
       "G:\\google drive\\QCSE analysis script\\Wide-field QCSE spectra analysis-win.ipynb"
      ]
     },
     "metadata": {},
     "output_type": "display_data"
    },
    {
     "name": "stdout",
     "output_type": "stream",
     "text": [
      "Error executing the notebook \"Wide-field QCSE spectra analysis-win\".\n",
      "\n",
      "See notebook \"G:/google drive/093016 QCSE kQD PVP/Wide-field QCSE spectra analysis-win-out_9_8.ipynb\" for the traceback.\n"
     ]
    },
    {
     "data": {
      "text/html": [
       "<a href='G:/google drive/093016 QCSE kQD PVP/Wide-field QCSE spectra analysis-win-out_9_8.ipynb' target='_blank'>G:/google drive/093016 QCSE kQD PVP/Wide-field QCSE spectra analysis-win-out_9_8.ipynb</a><br>"
      ],
      "text/plain": [
       "G:\\google drive\\093016 QCSE kQD PVP\\Wide-field QCSE spectra analysis-win-out_9_8.ipynb"
      ]
     },
     "metadata": {},
     "output_type": "display_data"
    },
    {
     "name": "stdout",
     "output_type": "stream",
     "text": [
      "9 8\n"
     ]
    },
    {
     "data": {
      "text/html": [
       "<a href='Wide-field QCSE spectra analysis-win.ipynb' target='_blank'>Wide-field QCSE spectra analysis-win.ipynb</a><br>"
      ],
      "text/plain": [
       "G:\\google drive\\QCSE analysis script\\Wide-field QCSE spectra analysis-win.ipynb"
      ]
     },
     "metadata": {},
     "output_type": "display_data"
    },
    {
     "data": {
      "text/html": [
       "<a href='G:/google drive/093016 QCSE kQD PVP/Wide-field QCSE spectra analysis-win-out_11_10.ipynb' target='_blank'>G:/google drive/093016 QCSE kQD PVP/Wide-field QCSE spectra analysis-win-out_11_10.ipynb</a><br>"
      ],
      "text/plain": [
       "G:\\google drive\\093016 QCSE kQD PVP\\Wide-field QCSE spectra analysis-win-out_11_10.ipynb"
      ]
     },
     "metadata": {},
     "output_type": "display_data"
    },
    {
     "data": {
      "text/html": [
       "<a href='Wide-field QCSE spectra analysis-win.ipynb' target='_blank'>Wide-field QCSE spectra analysis-win.ipynb</a><br>"
      ],
      "text/plain": [
       "G:\\google drive\\QCSE analysis script\\Wide-field QCSE spectra analysis-win.ipynb"
      ]
     },
     "metadata": {},
     "output_type": "display_data"
    },
    {
     "data": {
      "text/html": [
       "<a href='G:/google drive/093016 QCSE kQD PVP/Wide-field QCSE spectra analysis-win-out_13_12.ipynb' target='_blank'>G:/google drive/093016 QCSE kQD PVP/Wide-field QCSE spectra analysis-win-out_13_12.ipynb</a><br>"
      ],
      "text/plain": [
       "G:\\google drive\\093016 QCSE kQD PVP\\Wide-field QCSE spectra analysis-win-out_13_12.ipynb"
      ]
     },
     "metadata": {},
     "output_type": "display_data"
    },
    {
     "data": {
      "text/html": [
       "<a href='Wide-field QCSE spectra analysis-win.ipynb' target='_blank'>Wide-field QCSE spectra analysis-win.ipynb</a><br>"
      ],
      "text/plain": [
       "G:\\google drive\\QCSE analysis script\\Wide-field QCSE spectra analysis-win.ipynb"
      ]
     },
     "metadata": {},
     "output_type": "display_data"
    },
    {
     "data": {
      "text/html": [
       "<a href='G:/google drive/093016 QCSE kQD PVP/Wide-field QCSE spectra analysis-win-out_15_14.ipynb' target='_blank'>G:/google drive/093016 QCSE kQD PVP/Wide-field QCSE spectra analysis-win-out_15_14.ipynb</a><br>"
      ],
      "text/plain": [
       "G:\\google drive\\093016 QCSE kQD PVP\\Wide-field QCSE spectra analysis-win-out_15_14.ipynb"
      ]
     },
     "metadata": {},
     "output_type": "display_data"
    },
    {
     "data": {
      "text/html": [
       "<a href='Wide-field QCSE spectra analysis-win.ipynb' target='_blank'>Wide-field QCSE spectra analysis-win.ipynb</a><br>"
      ],
      "text/plain": [
       "G:\\google drive\\QCSE analysis script\\Wide-field QCSE spectra analysis-win.ipynb"
      ]
     },
     "metadata": {},
     "output_type": "display_data"
    },
    {
     "data": {
      "text/html": [
       "<a href='G:/google drive/093016 QCSE kQD PVP/Wide-field QCSE spectra analysis-win-out_18_16.ipynb' target='_blank'>G:/google drive/093016 QCSE kQD PVP/Wide-field QCSE spectra analysis-win-out_18_16.ipynb</a><br>"
      ],
      "text/plain": [
       "G:\\google drive\\093016 QCSE kQD PVP\\Wide-field QCSE spectra analysis-win-out_18_16.ipynb"
      ]
     },
     "metadata": {},
     "output_type": "display_data"
    },
    {
     "data": {
      "text/html": [
       "<a href='Wide-field QCSE spectra analysis-win.ipynb' target='_blank'>Wide-field QCSE spectra analysis-win.ipynb</a><br>"
      ],
      "text/plain": [
       "G:\\google drive\\QCSE analysis script\\Wide-field QCSE spectra analysis-win.ipynb"
      ]
     },
     "metadata": {},
     "output_type": "display_data"
    },
    {
     "data": {
      "text/html": [
       "<a href='G:/google drive/093016 QCSE kQD PVP/Wide-field QCSE spectra analysis-win-out_20_19.ipynb' target='_blank'>G:/google drive/093016 QCSE kQD PVP/Wide-field QCSE spectra analysis-win-out_20_19.ipynb</a><br>"
      ],
      "text/plain": [
       "G:\\google drive\\093016 QCSE kQD PVP\\Wide-field QCSE spectra analysis-win-out_20_19.ipynb"
      ]
     },
     "metadata": {},
     "output_type": "display_data"
    }
   ],
   "source": [
    "for f1, f2 in zip(fname1, fname2):\n",
    "    nb_kwargs = {'fileName1': fname+str(f1), 'fileName2': fname+str(f2), 'folder': folder}\n",
    "    try:\n",
    "        run_notebook(nb_name, nb_suffix='-out_%d_%s' % (f1, f2), out_path=prePath+folder, nb_kwargs=nb_kwargs)\n",
    "    except:\n",
    "        print(f1, f2)"
   ]
  },
  {
   "cell_type": "code",
   "execution_count": 14,
   "metadata": {
    "collapsed": true
   },
   "outputs": [],
   "source": [
    "folder = '020717 QCSE sandwich/'\n",
    "fname = '1296BZn_PVP_OD0.6_73V_8Hz_'\n",
    "fname1 = [1,4,6,10,12,17,21]\n",
    "fname2 = [0,3,5,9,11,16,20]"
   ]
  },
  {
   "cell_type": "code",
   "execution_count": 15,
   "metadata": {
    "collapsed": false,
    "scrolled": false
   },
   "outputs": [
    {
     "data": {
      "text/html": [
       "<a href='Wide-field QCSE spectra analysis-win.ipynb' target='_blank'>Wide-field QCSE spectra analysis-win.ipynb</a><br>"
      ],
      "text/plain": [
       "G:\\google drive\\QCSE analysis script\\Wide-field QCSE spectra analysis-win.ipynb"
      ]
     },
     "metadata": {},
     "output_type": "display_data"
    },
    {
     "data": {
      "text/html": [
       "<a href='G:/google drive/020717 QCSE sandwich/Wide-field QCSE spectra analysis-win1296BZn-out_1_0.ipynb' target='_blank'>G:/google drive/020717 QCSE sandwich/Wide-field QCSE spectra analysis-win1296BZn-out_1_0.ipynb</a><br>"
      ],
      "text/plain": [
       "G:\\google drive\\020717 QCSE sandwich\\Wide-field QCSE spectra analysis-win1296BZn-out_1_0.ipynb"
      ]
     },
     "metadata": {},
     "output_type": "display_data"
    },
    {
     "data": {
      "text/html": [
       "<a href='Wide-field QCSE spectra analysis-win.ipynb' target='_blank'>Wide-field QCSE spectra analysis-win.ipynb</a><br>"
      ],
      "text/plain": [
       "G:\\google drive\\QCSE analysis script\\Wide-field QCSE spectra analysis-win.ipynb"
      ]
     },
     "metadata": {},
     "output_type": "display_data"
    },
    {
     "data": {
      "text/html": [
       "<a href='G:/google drive/020717 QCSE sandwich/Wide-field QCSE spectra analysis-win1296BZn-out_4_3.ipynb' target='_blank'>G:/google drive/020717 QCSE sandwich/Wide-field QCSE spectra analysis-win1296BZn-out_4_3.ipynb</a><br>"
      ],
      "text/plain": [
       "G:\\google drive\\020717 QCSE sandwich\\Wide-field QCSE spectra analysis-win1296BZn-out_4_3.ipynb"
      ]
     },
     "metadata": {},
     "output_type": "display_data"
    },
    {
     "data": {
      "text/html": [
       "<a href='Wide-field QCSE spectra analysis-win.ipynb' target='_blank'>Wide-field QCSE spectra analysis-win.ipynb</a><br>"
      ],
      "text/plain": [
       "G:\\google drive\\QCSE analysis script\\Wide-field QCSE spectra analysis-win.ipynb"
      ]
     },
     "metadata": {},
     "output_type": "display_data"
    },
    {
     "data": {
      "text/html": [
       "<a href='G:/google drive/020717 QCSE sandwich/Wide-field QCSE spectra analysis-win1296BZn-out_6_5.ipynb' target='_blank'>G:/google drive/020717 QCSE sandwich/Wide-field QCSE spectra analysis-win1296BZn-out_6_5.ipynb</a><br>"
      ],
      "text/plain": [
       "G:\\google drive\\020717 QCSE sandwich\\Wide-field QCSE spectra analysis-win1296BZn-out_6_5.ipynb"
      ]
     },
     "metadata": {},
     "output_type": "display_data"
    },
    {
     "data": {
      "text/html": [
       "<a href='Wide-field QCSE spectra analysis-win.ipynb' target='_blank'>Wide-field QCSE spectra analysis-win.ipynb</a><br>"
      ],
      "text/plain": [
       "G:\\google drive\\QCSE analysis script\\Wide-field QCSE spectra analysis-win.ipynb"
      ]
     },
     "metadata": {},
     "output_type": "display_data"
    },
    {
     "name": "stdout",
     "output_type": "stream",
     "text": [
      "Error executing the notebook \"Wide-field QCSE spectra analysis-win\".\n",
      "\n",
      "See notebook \"G:/google drive/020717 QCSE sandwich/Wide-field QCSE spectra analysis-win1296BZn-out_10_9.ipynb\" for the traceback.\n"
     ]
    },
    {
     "data": {
      "text/html": [
       "<a href='G:/google drive/020717 QCSE sandwich/Wide-field QCSE spectra analysis-win1296BZn-out_10_9.ipynb' target='_blank'>G:/google drive/020717 QCSE sandwich/Wide-field QCSE spectra analysis-win1296BZn-out_10_9.ipynb</a><br>"
      ],
      "text/plain": [
       "G:\\google drive\\020717 QCSE sandwich\\Wide-field QCSE spectra analysis-win1296BZn-out_10_9.ipynb"
      ]
     },
     "metadata": {},
     "output_type": "display_data"
    },
    {
     "name": "stdout",
     "output_type": "stream",
     "text": [
      "10 9\n"
     ]
    },
    {
     "data": {
      "text/html": [
       "<a href='Wide-field QCSE spectra analysis-win.ipynb' target='_blank'>Wide-field QCSE spectra analysis-win.ipynb</a><br>"
      ],
      "text/plain": [
       "G:\\google drive\\QCSE analysis script\\Wide-field QCSE spectra analysis-win.ipynb"
      ]
     },
     "metadata": {},
     "output_type": "display_data"
    },
    {
     "data": {
      "text/html": [
       "<a href='G:/google drive/020717 QCSE sandwich/Wide-field QCSE spectra analysis-win1296BZn-out_12_11.ipynb' target='_blank'>G:/google drive/020717 QCSE sandwich/Wide-field QCSE spectra analysis-win1296BZn-out_12_11.ipynb</a><br>"
      ],
      "text/plain": [
       "G:\\google drive\\020717 QCSE sandwich\\Wide-field QCSE spectra analysis-win1296BZn-out_12_11.ipynb"
      ]
     },
     "metadata": {},
     "output_type": "display_data"
    },
    {
     "data": {
      "text/html": [
       "<a href='Wide-field QCSE spectra analysis-win.ipynb' target='_blank'>Wide-field QCSE spectra analysis-win.ipynb</a><br>"
      ],
      "text/plain": [
       "G:\\google drive\\QCSE analysis script\\Wide-field QCSE spectra analysis-win.ipynb"
      ]
     },
     "metadata": {},
     "output_type": "display_data"
    },
    {
     "data": {
      "text/html": [
       "<a href='G:/google drive/020717 QCSE sandwich/Wide-field QCSE spectra analysis-win1296BZn-out_17_16.ipynb' target='_blank'>G:/google drive/020717 QCSE sandwich/Wide-field QCSE spectra analysis-win1296BZn-out_17_16.ipynb</a><br>"
      ],
      "text/plain": [
       "G:\\google drive\\020717 QCSE sandwich\\Wide-field QCSE spectra analysis-win1296BZn-out_17_16.ipynb"
      ]
     },
     "metadata": {},
     "output_type": "display_data"
    },
    {
     "data": {
      "text/html": [
       "<a href='Wide-field QCSE spectra analysis-win.ipynb' target='_blank'>Wide-field QCSE spectra analysis-win.ipynb</a><br>"
      ],
      "text/plain": [
       "G:\\google drive\\QCSE analysis script\\Wide-field QCSE spectra analysis-win.ipynb"
      ]
     },
     "metadata": {},
     "output_type": "display_data"
    },
    {
     "data": {
      "text/html": [
       "<a href='G:/google drive/020717 QCSE sandwich/Wide-field QCSE spectra analysis-win1296BZn-out_21_20.ipynb' target='_blank'>G:/google drive/020717 QCSE sandwich/Wide-field QCSE spectra analysis-win1296BZn-out_21_20.ipynb</a><br>"
      ],
      "text/plain": [
       "G:\\google drive\\020717 QCSE sandwich\\Wide-field QCSE spectra analysis-win1296BZn-out_21_20.ipynb"
      ]
     },
     "metadata": {},
     "output_type": "display_data"
    }
   ],
   "source": [
    "for f1, f2 in zip(fname1, fname2):\n",
    "    nb_kwargs = {'fileName1': fname+str(f1), 'fileName2': fname+str(f2), 'folder': folder}\n",
    "    try:\n",
    "        run_notebook(nb_name, nb_suffix=fname.split('_')[0]+'-out_%d_%s' % (f1, f2), out_path=prePath+folder, nb_kwargs=nb_kwargs)\n",
    "    except:\n",
    "        print(f1, f2)"
   ]
  },
  {
   "cell_type": "code",
   "execution_count": 16,
   "metadata": {
    "collapsed": true
   },
   "outputs": [],
   "source": [
    "folder = '020217 QCSE sandwich/'\n",
    "fname = '1296BZn_PVP_OD0.4_78V_8Hz_'\n",
    "fname1 = [1]+list(np.arange(4,15,2))\n",
    "fname2 = [0]+list(np.arange(3,14,2))"
   ]
  },
  {
   "cell_type": "code",
   "execution_count": 17,
   "metadata": {
    "collapsed": false
   },
   "outputs": [
    {
     "data": {
      "text/html": [
       "<a href='Wide-field QCSE spectra analysis-win.ipynb' target='_blank'>Wide-field QCSE spectra analysis-win.ipynb</a><br>"
      ],
      "text/plain": [
       "G:\\google drive\\QCSE analysis script\\Wide-field QCSE spectra analysis-win.ipynb"
      ]
     },
     "metadata": {},
     "output_type": "display_data"
    },
    {
     "data": {
      "text/html": [
       "<a href='G:/google drive/020217 QCSE sandwich/Wide-field QCSE spectra analysis-win-out_1_0.ipynb' target='_blank'>G:/google drive/020217 QCSE sandwich/Wide-field QCSE spectra analysis-win-out_1_0.ipynb</a><br>"
      ],
      "text/plain": [
       "G:\\google drive\\020217 QCSE sandwich\\Wide-field QCSE spectra analysis-win-out_1_0.ipynb"
      ]
     },
     "metadata": {},
     "output_type": "display_data"
    },
    {
     "data": {
      "text/html": [
       "<a href='Wide-field QCSE spectra analysis-win.ipynb' target='_blank'>Wide-field QCSE spectra analysis-win.ipynb</a><br>"
      ],
      "text/plain": [
       "G:\\google drive\\QCSE analysis script\\Wide-field QCSE spectra analysis-win.ipynb"
      ]
     },
     "metadata": {},
     "output_type": "display_data"
    },
    {
     "data": {
      "text/html": [
       "<a href='G:/google drive/020217 QCSE sandwich/Wide-field QCSE spectra analysis-win-out_4_3.ipynb' target='_blank'>G:/google drive/020217 QCSE sandwich/Wide-field QCSE spectra analysis-win-out_4_3.ipynb</a><br>"
      ],
      "text/plain": [
       "G:\\google drive\\020217 QCSE sandwich\\Wide-field QCSE spectra analysis-win-out_4_3.ipynb"
      ]
     },
     "metadata": {},
     "output_type": "display_data"
    },
    {
     "data": {
      "text/html": [
       "<a href='Wide-field QCSE spectra analysis-win.ipynb' target='_blank'>Wide-field QCSE spectra analysis-win.ipynb</a><br>"
      ],
      "text/plain": [
       "G:\\google drive\\QCSE analysis script\\Wide-field QCSE spectra analysis-win.ipynb"
      ]
     },
     "metadata": {},
     "output_type": "display_data"
    },
    {
     "data": {
      "text/html": [
       "<a href='G:/google drive/020217 QCSE sandwich/Wide-field QCSE spectra analysis-win-out_6_5.ipynb' target='_blank'>G:/google drive/020217 QCSE sandwich/Wide-field QCSE spectra analysis-win-out_6_5.ipynb</a><br>"
      ],
      "text/plain": [
       "G:\\google drive\\020217 QCSE sandwich\\Wide-field QCSE spectra analysis-win-out_6_5.ipynb"
      ]
     },
     "metadata": {},
     "output_type": "display_data"
    },
    {
     "data": {
      "text/html": [
       "<a href='Wide-field QCSE spectra analysis-win.ipynb' target='_blank'>Wide-field QCSE spectra analysis-win.ipynb</a><br>"
      ],
      "text/plain": [
       "G:\\google drive\\QCSE analysis script\\Wide-field QCSE spectra analysis-win.ipynb"
      ]
     },
     "metadata": {},
     "output_type": "display_data"
    },
    {
     "data": {
      "text/html": [
       "<a href='G:/google drive/020217 QCSE sandwich/Wide-field QCSE spectra analysis-win-out_8_7.ipynb' target='_blank'>G:/google drive/020217 QCSE sandwich/Wide-field QCSE spectra analysis-win-out_8_7.ipynb</a><br>"
      ],
      "text/plain": [
       "G:\\google drive\\020217 QCSE sandwich\\Wide-field QCSE spectra analysis-win-out_8_7.ipynb"
      ]
     },
     "metadata": {},
     "output_type": "display_data"
    },
    {
     "data": {
      "text/html": [
       "<a href='Wide-field QCSE spectra analysis-win.ipynb' target='_blank'>Wide-field QCSE spectra analysis-win.ipynb</a><br>"
      ],
      "text/plain": [
       "G:\\google drive\\QCSE analysis script\\Wide-field QCSE spectra analysis-win.ipynb"
      ]
     },
     "metadata": {},
     "output_type": "display_data"
    },
    {
     "data": {
      "text/html": [
       "<a href='G:/google drive/020217 QCSE sandwich/Wide-field QCSE spectra analysis-win-out_10_9.ipynb' target='_blank'>G:/google drive/020217 QCSE sandwich/Wide-field QCSE spectra analysis-win-out_10_9.ipynb</a><br>"
      ],
      "text/plain": [
       "G:\\google drive\\020217 QCSE sandwich\\Wide-field QCSE spectra analysis-win-out_10_9.ipynb"
      ]
     },
     "metadata": {},
     "output_type": "display_data"
    },
    {
     "data": {
      "text/html": [
       "<a href='Wide-field QCSE spectra analysis-win.ipynb' target='_blank'>Wide-field QCSE spectra analysis-win.ipynb</a><br>"
      ],
      "text/plain": [
       "G:\\google drive\\QCSE analysis script\\Wide-field QCSE spectra analysis-win.ipynb"
      ]
     },
     "metadata": {},
     "output_type": "display_data"
    },
    {
     "data": {
      "text/html": [
       "<a href='G:/google drive/020217 QCSE sandwich/Wide-field QCSE spectra analysis-win-out_12_11.ipynb' target='_blank'>G:/google drive/020217 QCSE sandwich/Wide-field QCSE spectra analysis-win-out_12_11.ipynb</a><br>"
      ],
      "text/plain": [
       "G:\\google drive\\020217 QCSE sandwich\\Wide-field QCSE spectra analysis-win-out_12_11.ipynb"
      ]
     },
     "metadata": {},
     "output_type": "display_data"
    },
    {
     "data": {
      "text/html": [
       "<a href='Wide-field QCSE spectra analysis-win.ipynb' target='_blank'>Wide-field QCSE spectra analysis-win.ipynb</a><br>"
      ],
      "text/plain": [
       "G:\\google drive\\QCSE analysis script\\Wide-field QCSE spectra analysis-win.ipynb"
      ]
     },
     "metadata": {},
     "output_type": "display_data"
    },
    {
     "data": {
      "text/html": [
       "<a href='G:/google drive/020217 QCSE sandwich/Wide-field QCSE spectra analysis-win-out_14_13.ipynb' target='_blank'>G:/google drive/020217 QCSE sandwich/Wide-field QCSE spectra analysis-win-out_14_13.ipynb</a><br>"
      ],
      "text/plain": [
       "G:\\google drive\\020217 QCSE sandwich\\Wide-field QCSE spectra analysis-win-out_14_13.ipynb"
      ]
     },
     "metadata": {},
     "output_type": "display_data"
    }
   ],
   "source": [
    "for f1, f2 in zip(fname1, fname2):\n",
    "    nb_kwargs = {'fileName1': fname+str(f1), 'fileName2': fname+str(f2), 'folder': folder}\n",
    "    try:\n",
    "        run_notebook(nb_name, nb_suffix='-out_%d_%s' % (f1, f2), out_path=prePath+folder, nb_kwargs=nb_kwargs)\n",
    "    except:\n",
    "        print(f1, f2)"
   ]
  },
  {
   "cell_type": "code",
   "execution_count": 18,
   "metadata": {
    "collapsed": true
   },
   "outputs": [],
   "source": [
    "folder = '020717 QCSE sandwich Mn/'\n",
    "fname = 'Mn doped_PVP_OD0.6_73V_8Hz_'\n",
    "fname1 = list(np.arange(1,12,2))\n",
    "fname2 = list(np.arange(0,11,2))"
   ]
  },
  {
   "cell_type": "code",
   "execution_count": 19,
   "metadata": {
    "collapsed": false
   },
   "outputs": [
    {
     "data": {
      "text/html": [
       "<a href='Wide-field QCSE spectra analysis-win.ipynb' target='_blank'>Wide-field QCSE spectra analysis-win.ipynb</a><br>"
      ],
      "text/plain": [
       "G:\\google drive\\QCSE analysis script\\Wide-field QCSE spectra analysis-win.ipynb"
      ]
     },
     "metadata": {},
     "output_type": "display_data"
    },
    {
     "data": {
      "text/html": [
       "<a href='G:/google drive/020717 QCSE sandwich Mn/Wide-field QCSE spectra analysis-win-out_1_0.ipynb' target='_blank'>G:/google drive/020717 QCSE sandwich Mn/Wide-field QCSE spectra analysis-win-out_1_0.ipynb</a><br>"
      ],
      "text/plain": [
       "G:\\google drive\\020717 QCSE sandwich Mn\\Wide-field QCSE spectra analysis-win-out_1_0.ipynb"
      ]
     },
     "metadata": {},
     "output_type": "display_data"
    },
    {
     "data": {
      "text/html": [
       "<a href='Wide-field QCSE spectra analysis-win.ipynb' target='_blank'>Wide-field QCSE spectra analysis-win.ipynb</a><br>"
      ],
      "text/plain": [
       "G:\\google drive\\QCSE analysis script\\Wide-field QCSE spectra analysis-win.ipynb"
      ]
     },
     "metadata": {},
     "output_type": "display_data"
    },
    {
     "data": {
      "text/html": [
       "<a href='G:/google drive/020717 QCSE sandwich Mn/Wide-field QCSE spectra analysis-win-out_3_2.ipynb' target='_blank'>G:/google drive/020717 QCSE sandwich Mn/Wide-field QCSE spectra analysis-win-out_3_2.ipynb</a><br>"
      ],
      "text/plain": [
       "G:\\google drive\\020717 QCSE sandwich Mn\\Wide-field QCSE spectra analysis-win-out_3_2.ipynb"
      ]
     },
     "metadata": {},
     "output_type": "display_data"
    },
    {
     "data": {
      "text/html": [
       "<a href='Wide-field QCSE spectra analysis-win.ipynb' target='_blank'>Wide-field QCSE spectra analysis-win.ipynb</a><br>"
      ],
      "text/plain": [
       "G:\\google drive\\QCSE analysis script\\Wide-field QCSE spectra analysis-win.ipynb"
      ]
     },
     "metadata": {},
     "output_type": "display_data"
    },
    {
     "data": {
      "text/html": [
       "<a href='G:/google drive/020717 QCSE sandwich Mn/Wide-field QCSE spectra analysis-win-out_5_4.ipynb' target='_blank'>G:/google drive/020717 QCSE sandwich Mn/Wide-field QCSE spectra analysis-win-out_5_4.ipynb</a><br>"
      ],
      "text/plain": [
       "G:\\google drive\\020717 QCSE sandwich Mn\\Wide-field QCSE spectra analysis-win-out_5_4.ipynb"
      ]
     },
     "metadata": {},
     "output_type": "display_data"
    },
    {
     "data": {
      "text/html": [
       "<a href='Wide-field QCSE spectra analysis-win.ipynb' target='_blank'>Wide-field QCSE spectra analysis-win.ipynb</a><br>"
      ],
      "text/plain": [
       "G:\\google drive\\QCSE analysis script\\Wide-field QCSE spectra analysis-win.ipynb"
      ]
     },
     "metadata": {},
     "output_type": "display_data"
    },
    {
     "data": {
      "text/html": [
       "<a href='G:/google drive/020717 QCSE sandwich Mn/Wide-field QCSE spectra analysis-win-out_7_6.ipynb' target='_blank'>G:/google drive/020717 QCSE sandwich Mn/Wide-field QCSE spectra analysis-win-out_7_6.ipynb</a><br>"
      ],
      "text/plain": [
       "G:\\google drive\\020717 QCSE sandwich Mn\\Wide-field QCSE spectra analysis-win-out_7_6.ipynb"
      ]
     },
     "metadata": {},
     "output_type": "display_data"
    },
    {
     "data": {
      "text/html": [
       "<a href='Wide-field QCSE spectra analysis-win.ipynb' target='_blank'>Wide-field QCSE spectra analysis-win.ipynb</a><br>"
      ],
      "text/plain": [
       "G:\\google drive\\QCSE analysis script\\Wide-field QCSE spectra analysis-win.ipynb"
      ]
     },
     "metadata": {},
     "output_type": "display_data"
    },
    {
     "data": {
      "text/html": [
       "<a href='G:/google drive/020717 QCSE sandwich Mn/Wide-field QCSE spectra analysis-win-out_9_8.ipynb' target='_blank'>G:/google drive/020717 QCSE sandwich Mn/Wide-field QCSE spectra analysis-win-out_9_8.ipynb</a><br>"
      ],
      "text/plain": [
       "G:\\google drive\\020717 QCSE sandwich Mn\\Wide-field QCSE spectra analysis-win-out_9_8.ipynb"
      ]
     },
     "metadata": {},
     "output_type": "display_data"
    },
    {
     "data": {
      "text/html": [
       "<a href='Wide-field QCSE spectra analysis-win.ipynb' target='_blank'>Wide-field QCSE spectra analysis-win.ipynb</a><br>"
      ],
      "text/plain": [
       "G:\\google drive\\QCSE analysis script\\Wide-field QCSE spectra analysis-win.ipynb"
      ]
     },
     "metadata": {},
     "output_type": "display_data"
    },
    {
     "data": {
      "text/html": [
       "<a href='G:/google drive/020717 QCSE sandwich Mn/Wide-field QCSE spectra analysis-win-out_11_10.ipynb' target='_blank'>G:/google drive/020717 QCSE sandwich Mn/Wide-field QCSE spectra analysis-win-out_11_10.ipynb</a><br>"
      ],
      "text/plain": [
       "G:\\google drive\\020717 QCSE sandwich Mn\\Wide-field QCSE spectra analysis-win-out_11_10.ipynb"
      ]
     },
     "metadata": {},
     "output_type": "display_data"
    }
   ],
   "source": [
    "for f1, f2 in zip(fname1, fname2):\n",
    "    nb_kwargs = {'fileName1': fname+str(f1), 'fileName2': fname+str(f2), 'folder': folder}\n",
    "    try:\n",
    "        run_notebook(nb_name, nb_suffix='-out_%d_%s' % (f1, f2), out_path=prePath+folder, nb_kwargs=nb_kwargs)\n",
    "    except:\n",
    "        print(f1, f2)"
   ]
  },
  {
   "cell_type": "code",
   "execution_count": 20,
   "metadata": {
    "collapsed": false
   },
   "outputs": [],
   "source": [
    "folder = '100416 QCSE 40nmNR PVP/'\n",
    "fname = '40nmNR_PVP_OD0.5OD0.5_74V_8Hz_'\n",
    "fname1 = list(np.arange(17,32,2))#[4]+list(np.arange(7,32,2))\n",
    "fname2 = list(np.arange(16,31,2))#[3]+list(np.arange(6,31,2))"
   ]
  },
  {
   "cell_type": "code",
   "execution_count": 21,
   "metadata": {
    "collapsed": false
   },
   "outputs": [
    {
     "data": {
      "text/html": [
       "<a href='Wide-field QCSE spectra analysis-win.ipynb' target='_blank'>Wide-field QCSE spectra analysis-win.ipynb</a><br>"
      ],
      "text/plain": [
       "G:\\google drive\\QCSE analysis script\\Wide-field QCSE spectra analysis-win.ipynb"
      ]
     },
     "metadata": {},
     "output_type": "display_data"
    },
    {
     "data": {
      "text/html": [
       "<a href='G:/google drive/100416 QCSE 40nmNR PVP/Wide-field QCSE spectra analysis-win-out_17_16.ipynb' target='_blank'>G:/google drive/100416 QCSE 40nmNR PVP/Wide-field QCSE spectra analysis-win-out_17_16.ipynb</a><br>"
      ],
      "text/plain": [
       "G:\\google drive\\100416 QCSE 40nmNR PVP\\Wide-field QCSE spectra analysis-win-out_17_16.ipynb"
      ]
     },
     "metadata": {},
     "output_type": "display_data"
    },
    {
     "data": {
      "text/html": [
       "<a href='Wide-field QCSE spectra analysis-win.ipynb' target='_blank'>Wide-field QCSE spectra analysis-win.ipynb</a><br>"
      ],
      "text/plain": [
       "G:\\google drive\\QCSE analysis script\\Wide-field QCSE spectra analysis-win.ipynb"
      ]
     },
     "metadata": {},
     "output_type": "display_data"
    },
    {
     "data": {
      "text/html": [
       "<a href='G:/google drive/100416 QCSE 40nmNR PVP/Wide-field QCSE spectra analysis-win-out_19_18.ipynb' target='_blank'>G:/google drive/100416 QCSE 40nmNR PVP/Wide-field QCSE spectra analysis-win-out_19_18.ipynb</a><br>"
      ],
      "text/plain": [
       "G:\\google drive\\100416 QCSE 40nmNR PVP\\Wide-field QCSE spectra analysis-win-out_19_18.ipynb"
      ]
     },
     "metadata": {},
     "output_type": "display_data"
    },
    {
     "data": {
      "text/html": [
       "<a href='Wide-field QCSE spectra analysis-win.ipynb' target='_blank'>Wide-field QCSE spectra analysis-win.ipynb</a><br>"
      ],
      "text/plain": [
       "G:\\google drive\\QCSE analysis script\\Wide-field QCSE spectra analysis-win.ipynb"
      ]
     },
     "metadata": {},
     "output_type": "display_data"
    },
    {
     "data": {
      "text/html": [
       "<a href='G:/google drive/100416 QCSE 40nmNR PVP/Wide-field QCSE spectra analysis-win-out_21_20.ipynb' target='_blank'>G:/google drive/100416 QCSE 40nmNR PVP/Wide-field QCSE spectra analysis-win-out_21_20.ipynb</a><br>"
      ],
      "text/plain": [
       "G:\\google drive\\100416 QCSE 40nmNR PVP\\Wide-field QCSE spectra analysis-win-out_21_20.ipynb"
      ]
     },
     "metadata": {},
     "output_type": "display_data"
    },
    {
     "data": {
      "text/html": [
       "<a href='Wide-field QCSE spectra analysis-win.ipynb' target='_blank'>Wide-field QCSE spectra analysis-win.ipynb</a><br>"
      ],
      "text/plain": [
       "G:\\google drive\\QCSE analysis script\\Wide-field QCSE spectra analysis-win.ipynb"
      ]
     },
     "metadata": {},
     "output_type": "display_data"
    },
    {
     "data": {
      "text/html": [
       "<a href='G:/google drive/100416 QCSE 40nmNR PVP/Wide-field QCSE spectra analysis-win-out_23_22.ipynb' target='_blank'>G:/google drive/100416 QCSE 40nmNR PVP/Wide-field QCSE spectra analysis-win-out_23_22.ipynb</a><br>"
      ],
      "text/plain": [
       "G:\\google drive\\100416 QCSE 40nmNR PVP\\Wide-field QCSE spectra analysis-win-out_23_22.ipynb"
      ]
     },
     "metadata": {},
     "output_type": "display_data"
    },
    {
     "data": {
      "text/html": [
       "<a href='Wide-field QCSE spectra analysis-win.ipynb' target='_blank'>Wide-field QCSE spectra analysis-win.ipynb</a><br>"
      ],
      "text/plain": [
       "G:\\google drive\\QCSE analysis script\\Wide-field QCSE spectra analysis-win.ipynb"
      ]
     },
     "metadata": {},
     "output_type": "display_data"
    },
    {
     "data": {
      "text/html": [
       "<a href='G:/google drive/100416 QCSE 40nmNR PVP/Wide-field QCSE spectra analysis-win-out_25_24.ipynb' target='_blank'>G:/google drive/100416 QCSE 40nmNR PVP/Wide-field QCSE spectra analysis-win-out_25_24.ipynb</a><br>"
      ],
      "text/plain": [
       "G:\\google drive\\100416 QCSE 40nmNR PVP\\Wide-field QCSE spectra analysis-win-out_25_24.ipynb"
      ]
     },
     "metadata": {},
     "output_type": "display_data"
    },
    {
     "data": {
      "text/html": [
       "<a href='Wide-field QCSE spectra analysis-win.ipynb' target='_blank'>Wide-field QCSE spectra analysis-win.ipynb</a><br>"
      ],
      "text/plain": [
       "G:\\google drive\\QCSE analysis script\\Wide-field QCSE spectra analysis-win.ipynb"
      ]
     },
     "metadata": {},
     "output_type": "display_data"
    },
    {
     "data": {
      "text/html": [
       "<a href='G:/google drive/100416 QCSE 40nmNR PVP/Wide-field QCSE spectra analysis-win-out_27_26.ipynb' target='_blank'>G:/google drive/100416 QCSE 40nmNR PVP/Wide-field QCSE spectra analysis-win-out_27_26.ipynb</a><br>"
      ],
      "text/plain": [
       "G:\\google drive\\100416 QCSE 40nmNR PVP\\Wide-field QCSE spectra analysis-win-out_27_26.ipynb"
      ]
     },
     "metadata": {},
     "output_type": "display_data"
    },
    {
     "data": {
      "text/html": [
       "<a href='Wide-field QCSE spectra analysis-win.ipynb' target='_blank'>Wide-field QCSE spectra analysis-win.ipynb</a><br>"
      ],
      "text/plain": [
       "G:\\google drive\\QCSE analysis script\\Wide-field QCSE spectra analysis-win.ipynb"
      ]
     },
     "metadata": {},
     "output_type": "display_data"
    },
    {
     "data": {
      "text/html": [
       "<a href='G:/google drive/100416 QCSE 40nmNR PVP/Wide-field QCSE spectra analysis-win-out_29_28.ipynb' target='_blank'>G:/google drive/100416 QCSE 40nmNR PVP/Wide-field QCSE spectra analysis-win-out_29_28.ipynb</a><br>"
      ],
      "text/plain": [
       "G:\\google drive\\100416 QCSE 40nmNR PVP\\Wide-field QCSE spectra analysis-win-out_29_28.ipynb"
      ]
     },
     "metadata": {},
     "output_type": "display_data"
    },
    {
     "data": {
      "text/html": [
       "<a href='Wide-field QCSE spectra analysis-win.ipynb' target='_blank'>Wide-field QCSE spectra analysis-win.ipynb</a><br>"
      ],
      "text/plain": [
       "G:\\google drive\\QCSE analysis script\\Wide-field QCSE spectra analysis-win.ipynb"
      ]
     },
     "metadata": {},
     "output_type": "display_data"
    },
    {
     "data": {
      "text/html": [
       "<a href='G:/google drive/100416 QCSE 40nmNR PVP/Wide-field QCSE spectra analysis-win-out_31_30.ipynb' target='_blank'>G:/google drive/100416 QCSE 40nmNR PVP/Wide-field QCSE spectra analysis-win-out_31_30.ipynb</a><br>"
      ],
      "text/plain": [
       "G:\\google drive\\100416 QCSE 40nmNR PVP\\Wide-field QCSE spectra analysis-win-out_31_30.ipynb"
      ]
     },
     "metadata": {},
     "output_type": "display_data"
    }
   ],
   "source": [
    "for f1, f2 in zip(fname1, fname2):\n",
    "    nb_kwargs = {'fileName1': fname+str(f1), 'fileName2': fname+str(f2), 'folder': folder}\n",
    "    try:\n",
    "        run_notebook(nb_name, nb_suffix='-out_%d_%s' % (f1, f2), out_path=prePath+folder, nb_kwargs=nb_kwargs)\n",
    "    except:\n",
    "        print(f1, f2)"
   ]
  },
  {
   "cell_type": "code",
   "execution_count": null,
   "metadata": {
    "collapsed": true
   },
   "outputs": [],
   "source": []
  }
 ],
 "metadata": {
  "anaconda-cloud": {},
  "kernelspec": {
   "display_name": "Python [default]",
   "language": "python",
   "name": "python3"
  },
  "language_info": {
   "codemirror_mode": {
    "name": "ipython",
    "version": 3
   },
   "file_extension": ".py",
   "mimetype": "text/x-python",
   "name": "python",
   "nbconvert_exporter": "python",
   "pygments_lexer": "ipython3",
   "version": "3.5.2"
  }
 },
 "nbformat": 4,
 "nbformat_minor": 0
}
